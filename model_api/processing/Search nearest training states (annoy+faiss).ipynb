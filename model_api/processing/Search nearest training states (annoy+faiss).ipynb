{
 "cells": [
  {
   "cell_type": "markdown",
   "metadata": {},
   "source": [
    "# Ideas\n",
    "\n",
    "- load states.h5\n",
    "- Search nearest kNN with annoy\n"
   ]
  },
  {
   "cell_type": "code",
   "execution_count": 1,
   "metadata": {},
   "outputs": [
    {
     "name": "stdout",
     "output_type": "stream",
     "text": [
      "loaded libraries...\n"
     ]
    }
   ],
   "source": [
    "%matplotlib inline \n",
    "import numpy as np\n",
    "import matplotlib.pyplot as plt\n",
    "import seaborn as sns\n",
    "import annoy\n",
    "import h5py\n",
    "\n",
    "from annoy import AnnoyIndex\n",
    "print(\"loaded libraries...\")"
   ]
  },
  {
   "cell_type": "markdown",
   "metadata": {},
   "source": [
    "## How to build index etc (don't re-run!)"
   ]
  },
  {
   "cell_type": "code",
   "execution_count": 2,
   "metadata": {},
   "outputs": [
    {
     "name": "stdout",
     "output_type": "stream",
     "text": [
      "(20000, 50, 100)\n"
     ]
    }
   ],
   "source": [
    "# Load the data\n",
    "f = h5py.File(\"s2s_fakedates//states.h5\", \"r\")\n",
    "cstar = f[\"cstar\"]#f[\"cstar\"]\n",
    "print(cstar.shape)"
   ]
  },
  {
   "cell_type": "code",
   "execution_count": 3,
   "metadata": {
    "collapsed": true
   },
   "outputs": [],
   "source": [
    "cstar = f[\"encoder_out\"]"
   ]
  },
  {
   "cell_type": "code",
   "execution_count": 5,
   "metadata": {
    "collapsed": true
   },
   "outputs": [],
   "source": [
    "small_copy.close()"
   ]
  },
  {
   "cell_type": "code",
   "execution_count": 6,
   "metadata": {
    "collapsed": true
   },
   "outputs": [],
   "source": [
    "# Delete cstar to create a small copy\n",
    "small_copy = h5py.File(\"S2S/states_small.h5\", \"w\")\n",
    "small_copy.create_group('src')\n",
    "f.copy('src', small_copy['src'])\n",
    "small_copy.create_group('tgt')\n",
    "f.copy('tgt', small_copy['tgt'])\n",
    "small_copy.create_group('attn')\n",
    "f.copy('attn', small_copy['attn'])\n",
    "small_copy.close()"
   ]
  },
  {
   "cell_type": "code",
   "execution_count": 13,
   "metadata": {
    "collapsed": true
   },
   "outputs": [],
   "source": [
    "# Create the index\n",
    "t = AnnoyIndex(cstar.shape[2], metric='angular')"
   ]
  },
  {
   "cell_type": "code",
   "execution_count": 14,
   "metadata": {
    "scrolled": true
   },
   "outputs": [
    {
     "name": "stdout",
     "output_type": "stream",
     "text": [
      "value # 0\n",
      "value # 1000\n",
      "value # 2000\n",
      "value # 3000\n",
      "value # 4000\n",
      "value # 5000\n",
      "value # 6000\n",
      "value # 7000\n",
      "value # 8000\n",
      "value # 9000\n",
      "value # 10000\n",
      "value # 11000\n",
      "value # 12000\n",
      "value # 13000\n",
      "value # 14000\n",
      "value # 15000\n",
      "value # 16000\n",
      "value # 17000\n",
      "value # 18000\n",
      "value # 19000\n",
      "value # 20000\n",
      "value # 21000\n",
      "value # 22000\n",
      "value # 23000\n",
      "value # 24000\n",
      "value # 25000\n",
      "value # 26000\n",
      "value # 27000\n",
      "value # 28000\n",
      "value # 29000\n",
      "value # 30000\n",
      "value # 31000\n",
      "value # 32000\n",
      "value # 33000\n",
      "value # 34000\n",
      "value # 35000\n",
      "value # 36000\n",
      "value # 37000\n",
      "value # 38000\n",
      "value # 39000\n",
      "value # 40000\n",
      "value # 41000\n",
      "value # 42000\n",
      "value # 43000\n",
      "value # 44000\n",
      "value # 45000\n",
      "value # 46000\n",
      "value # 47000\n",
      "value # 48000\n",
      "value # 49000\n",
      "value # 50000\n",
      "value # 51000\n",
      "value # 52000\n",
      "value # 53000\n",
      "value # 54000\n",
      "value # 55000\n",
      "value # 56000\n",
      "value # 57000\n",
      "value # 58000\n",
      "value # 59000\n",
      "value # 60000\n",
      "value # 61000\n",
      "value # 62000\n",
      "value # 63000\n",
      "value # 64000\n",
      "value # 65000\n",
      "value # 66000\n",
      "value # 67000\n",
      "value # 68000\n",
      "value # 69000\n",
      "value # 70000\n",
      "value # 71000\n",
      "value # 72000\n",
      "value # 73000\n",
      "value # 74000\n",
      "value # 75000\n",
      "value # 76000\n",
      "value # 77000\n",
      "value # 78000\n",
      "value # 79000\n",
      "value # 80000\n",
      "value # 81000\n",
      "value # 82000\n",
      "value # 83000\n",
      "value # 84000\n",
      "value # 85000\n",
      "value # 86000\n",
      "value # 87000\n",
      "value # 88000\n",
      "value # 89000\n",
      "value # 90000\n",
      "value # 91000\n",
      "value # 92000\n",
      "value # 93000\n",
      "value # 94000\n",
      "value # 95000\n",
      "value # 96000\n",
      "value # 97000\n",
      "value # 98000\n",
      "value # 99000\n",
      "value # 100000\n",
      "value # 101000\n",
      "value # 102000\n",
      "value # 103000\n",
      "value # 104000\n",
      "value # 105000\n",
      "value # 106000\n",
      "value # 107000\n",
      "value # 108000\n",
      "value # 109000\n",
      "value # 110000\n",
      "value # 111000\n",
      "value # 112000\n",
      "value # 113000\n",
      "value # 114000\n",
      "value # 115000\n",
      "value # 116000\n",
      "value # 117000\n",
      "value # 118000\n",
      "value # 119000\n",
      "value # 120000\n",
      "value # 121000\n",
      "value # 122000\n",
      "value # 123000\n",
      "value # 124000\n",
      "value # 125000\n",
      "value # 126000\n",
      "value # 127000\n",
      "value # 128000\n",
      "value # 129000\n",
      "value # 130000\n",
      "value # 131000\n",
      "value # 132000\n",
      "value # 133000\n",
      "value # 134000\n",
      "value # 135000\n",
      "value # 136000\n",
      "value # 137000\n",
      "value # 138000\n",
      "value # 139000\n",
      "value # 140000\n",
      "value # 141000\n",
      "value # 142000\n",
      "value # 143000\n",
      "value # 144000\n",
      "value # 145000\n",
      "value # 146000\n",
      "value # 147000\n",
      "value # 148000\n",
      "value # 149000\n",
      "value # 150000\n",
      "value # 151000\n",
      "value # 152000\n",
      "value # 153000\n",
      "value # 154000\n",
      "value # 155000\n",
      "value # 156000\n",
      "value # 157000\n",
      "value # 158000\n",
      "value # 159000\n",
      "value # 160000\n",
      "value # 161000\n",
      "value # 162000\n",
      "value # 163000\n",
      "value # 164000\n",
      "value # 165000\n",
      "value # 166000\n",
      "value # 167000\n",
      "value # 168000\n",
      "value # 169000\n",
      "value # 170000\n",
      "value # 171000\n",
      "value # 172000\n",
      "value # 173000\n",
      "value # 174000\n",
      "value # 175000\n",
      "value # 176000\n",
      "value # 177000\n",
      "value # 178000\n",
      "value # 179000\n",
      "value # 180000\n",
      "value # 181000\n",
      "value # 182000\n",
      "value # 183000\n",
      "value # 184000\n",
      "value # 185000\n",
      "value # 186000\n",
      "value # 187000\n",
      "value # 188000\n",
      "value # 189000\n",
      "value # 190000\n",
      "value # 191000\n",
      "value # 192000\n",
      "value # 193000\n",
      "value # 194000\n",
      "value # 195000\n",
      "value # 196000\n",
      "value # 197000\n",
      "value # 198000\n",
      "value # 199000\n",
      "value # 200000\n",
      "value # 201000\n",
      "value # 202000\n",
      "value # 203000\n",
      "value # 204000\n",
      "value # 205000\n",
      "value # 206000\n",
      "value # 207000\n",
      "value # 208000\n",
      "value # 209000\n",
      "value # 210000\n",
      "value # 211000\n",
      "value # 212000\n",
      "value # 213000\n",
      "value # 214000\n",
      "value # 215000\n",
      "value # 216000\n",
      "value # 217000\n",
      "value # 218000\n",
      "value # 219000\n",
      "value # 220000\n",
      "value # 221000\n",
      "value # 222000\n",
      "value # 223000\n",
      "value # 224000\n",
      "value # 225000\n",
      "value # 226000\n",
      "value # 227000\n",
      "value # 228000\n",
      "value # 229000\n",
      "value # 230000\n",
      "value # 231000\n",
      "value # 232000\n",
      "value # 233000\n",
      "value # 234000\n",
      "value # 235000\n",
      "value # 236000\n",
      "value # 237000\n",
      "value # 238000\n",
      "value # 239000\n",
      "value # 240000\n",
      "value # 241000\n",
      "value # 242000\n",
      "value # 243000\n",
      "value # 244000\n",
      "value # 245000\n",
      "value # 246000\n",
      "value # 247000\n",
      "value # 248000\n",
      "value # 249000\n",
      "value # 250000\n",
      "value # 251000\n",
      "value # 252000\n",
      "value # 253000\n",
      "value # 254000\n",
      "value # 255000\n",
      "value # 256000\n",
      "value # 257000\n",
      "value # 258000\n",
      "value # 259000\n",
      "value # 260000\n",
      "value # 261000\n",
      "value # 262000\n",
      "value # 263000\n",
      "value # 264000\n",
      "value # 265000\n",
      "value # 266000\n",
      "value # 267000\n",
      "value # 268000\n",
      "value # 269000\n",
      "value # 270000\n",
      "value # 271000\n",
      "value # 272000\n",
      "value # 273000\n",
      "value # 274000\n",
      "value # 275000\n",
      "value # 276000\n",
      "value # 277000\n",
      "value # 278000\n",
      "value # 279000\n",
      "value # 280000\n",
      "value # 281000\n",
      "value # 282000\n",
      "value # 283000\n",
      "value # 284000\n",
      "value # 285000\n",
      "value # 286000\n",
      "value # 287000\n",
      "value # 288000\n",
      "value # 289000\n",
      "value # 290000\n",
      "value # 291000\n",
      "value # 292000\n",
      "value # 293000\n",
      "value # 294000\n",
      "value # 295000\n",
      "value # 296000\n",
      "value # 297000\n",
      "value # 298000\n",
      "value # 299000\n",
      "value # 300000\n",
      "value # 301000\n",
      "value # 302000\n",
      "value # 303000\n",
      "value # 304000\n",
      "value # 305000\n",
      "value # 306000\n",
      "value # 307000\n",
      "value # 308000\n",
      "value # 309000\n",
      "value # 310000\n",
      "value # 311000\n",
      "value # 312000\n",
      "value # 313000\n",
      "value # 314000\n",
      "value # 315000\n",
      "value # 316000\n",
      "value # 317000\n",
      "value # 318000\n",
      "value # 319000\n",
      "value # 320000\n",
      "value # 321000\n",
      "value # 322000\n",
      "value # 323000\n",
      "value # 324000\n",
      "value # 325000\n",
      "value # 326000\n",
      "value # 327000\n",
      "value # 328000\n",
      "value # 329000\n",
      "value # 330000\n",
      "value # 331000\n",
      "value # 332000\n",
      "value # 333000\n",
      "value # 334000\n",
      "value # 335000\n",
      "value # 336000\n",
      "value # 337000\n",
      "value # 338000\n",
      "value # 339000\n",
      "value # 340000\n",
      "value # 341000\n",
      "value # 342000\n",
      "value # 343000\n",
      "value # 344000\n",
      "value # 345000\n",
      "value # 346000\n",
      "value # 347000\n",
      "value # 348000\n",
      "value # 349000\n",
      "value # 350000\n",
      "value # 351000\n",
      "value # 352000\n",
      "value # 353000\n",
      "value # 354000\n",
      "value # 355000\n",
      "value # 356000\n",
      "value # 357000\n",
      "value # 358000\n",
      "value # 359000\n",
      "value # 360000\n",
      "value # 361000\n",
      "value # 362000\n",
      "value # 363000\n",
      "value # 364000\n",
      "value # 365000\n",
      "value # 366000\n",
      "value # 367000\n",
      "value # 368000\n",
      "value # 369000\n",
      "value # 370000\n",
      "value # 371000\n",
      "value # 372000\n",
      "value # 373000\n",
      "value # 374000\n",
      "value # 375000\n",
      "value # 376000\n",
      "value # 377000\n",
      "value # 378000\n",
      "value # 379000\n",
      "value # 380000\n",
      "value # 381000\n",
      "value # 382000\n",
      "value # 383000\n",
      "value # 384000\n",
      "value # 385000\n",
      "value # 386000\n",
      "value # 387000\n",
      "value # 388000\n",
      "value # 389000\n",
      "value # 390000\n",
      "value # 391000\n",
      "value # 392000\n",
      "value # 393000\n",
      "value # 394000\n",
      "value # 395000\n",
      "value # 396000\n",
      "value # 397000\n",
      "value # 398000\n",
      "value # 399000\n",
      "value # 400000\n",
      "value # 401000\n",
      "value # 402000\n",
      "value # 403000\n",
      "value # 404000\n",
      "value # 405000\n",
      "value # 406000\n",
      "value # 407000\n",
      "value # 408000\n",
      "value # 409000\n",
      "value # 410000\n",
      "value # 411000\n",
      "value # 412000\n",
      "value # 413000\n",
      "value # 414000\n",
      "value # 415000\n",
      "value # 416000\n",
      "value # 417000\n",
      "value # 418000\n",
      "value # 419000\n",
      "value # 420000\n",
      "value # 421000\n",
      "value # 422000\n",
      "value # 423000\n",
      "value # 424000\n",
      "value # 425000\n",
      "value # 426000\n",
      "value # 427000\n",
      "value # 428000\n",
      "value # 429000\n",
      "value # 430000\n",
      "value # 431000\n",
      "value # 432000\n",
      "value # 433000\n",
      "value # 434000\n",
      "value # 435000\n",
      "value # 436000\n",
      "value # 437000\n",
      "value # 438000\n",
      "value # 439000\n",
      "value # 440000\n",
      "value # 441000\n",
      "value # 442000\n",
      "value # 443000\n",
      "value # 444000\n",
      "value # 445000\n",
      "value # 446000\n",
      "value # 447000\n",
      "value # 448000\n",
      "value # 449000\n",
      "value # 450000\n",
      "value # 451000\n",
      "value # 452000\n",
      "value # 453000\n",
      "value # 454000\n",
      "value # 455000\n",
      "value # 456000\n",
      "value # 457000\n",
      "value # 458000\n",
      "value # 459000\n",
      "value # 460000\n",
      "value # 461000\n",
      "value # 462000\n",
      "value # 463000\n",
      "value # 464000\n",
      "value # 465000\n",
      "value # 466000\n",
      "value # 467000\n",
      "value # 468000\n",
      "value # 469000\n",
      "value # 470000\n",
      "value # 471000\n",
      "value # 472000\n",
      "value # 473000\n",
      "value # 474000\n",
      "value # 475000\n",
      "value # 476000\n",
      "value # 477000\n",
      "value # 478000\n",
      "value # 479000\n",
      "value # 480000\n",
      "value # 481000\n",
      "value # 482000\n",
      "value # 483000\n",
      "value # 484000\n",
      "value # 485000\n",
      "value # 486000\n",
      "value # 487000\n",
      "value # 488000\n",
      "value # 489000\n",
      "value # 490000\n",
      "value # 491000\n",
      "value # 492000\n",
      "value # 493000\n",
      "value # 494000\n",
      "value # 495000\n",
      "value # 496000\n",
      "value # 497000\n",
      "value # 498000\n",
      "value # 499000\n",
      "value # 500000\n",
      "value # 501000\n",
      "value # 502000\n",
      "value # 503000\n",
      "value # 504000\n",
      "value # 505000\n",
      "value # 506000\n",
      "value # 507000\n",
      "value # 508000\n",
      "value # 509000\n",
      "value # 510000\n",
      "value # 511000\n",
      "value # 512000\n",
      "value # 513000\n",
      "value # 514000\n",
      "value # 515000\n",
      "value # 516000\n",
      "value # 517000\n",
      "value # 518000\n",
      "value # 519000\n",
      "value # 520000\n",
      "value # 521000\n",
      "value # 522000\n",
      "value # 523000\n",
      "value # 524000\n",
      "value # 525000\n",
      "value # 526000\n",
      "value # 527000\n",
      "value # 528000\n",
      "value # 529000\n",
      "value # 530000\n",
      "value # 531000\n",
      "value # 532000\n",
      "value # 533000\n",
      "value # 534000\n",
      "value # 535000\n",
      "value # 536000\n",
      "value # 537000\n",
      "value # 538000\n",
      "value # 539000\n",
      "value # 540000\n",
      "value # 541000\n",
      "value # 542000\n",
      "value # 543000\n",
      "value # 544000\n",
      "value # 545000\n",
      "value # 546000\n",
      "value # 547000\n",
      "value # 548000\n",
      "value # 549000\n",
      "value # 550000\n",
      "value # 551000\n",
      "value # 552000\n",
      "value # 553000\n"
     ]
    },
    {
     "name": "stdout",
     "output_type": "stream",
     "text": [
      "value # 554000\n",
      "value # 555000\n",
      "value # 556000\n",
      "value # 557000\n",
      "value # 558000\n",
      "value # 559000\n",
      "value # 560000\n",
      "value # 561000\n",
      "value # 562000\n",
      "value # 563000\n",
      "value # 564000\n",
      "value # 565000\n",
      "value # 566000\n",
      "value # 567000\n",
      "value # 568000\n",
      "value # 569000\n",
      "value # 570000\n",
      "value # 571000\n",
      "value # 572000\n",
      "value # 573000\n",
      "value # 574000\n",
      "value # 575000\n",
      "value # 576000\n",
      "value # 577000\n",
      "value # 578000\n",
      "value # 579000\n",
      "value # 580000\n",
      "value # 581000\n",
      "value # 582000\n",
      "value # 583000\n",
      "value # 584000\n",
      "value # 585000\n",
      "value # 586000\n",
      "value # 587000\n",
      "value # 588000\n",
      "value # 589000\n",
      "value # 590000\n",
      "value # 591000\n",
      "value # 592000\n",
      "value # 593000\n",
      "value # 594000\n",
      "value # 595000\n",
      "value # 596000\n",
      "value # 597000\n",
      "value # 598000\n",
      "value # 599000\n",
      "value # 600000\n",
      "value # 601000\n",
      "value # 602000\n",
      "value # 603000\n",
      "value # 604000\n",
      "value # 605000\n",
      "value # 606000\n",
      "value # 607000\n",
      "value # 608000\n",
      "value # 609000\n",
      "value # 610000\n",
      "value # 611000\n",
      "value # 612000\n",
      "value # 613000\n",
      "value # 614000\n",
      "value # 615000\n",
      "value # 616000\n",
      "value # 617000\n",
      "value # 618000\n",
      "value # 619000\n",
      "value # 620000\n",
      "value # 621000\n",
      "value # 622000\n",
      "value # 623000\n",
      "value # 624000\n",
      "value # 625000\n",
      "value # 626000\n",
      "value # 627000\n",
      "value # 628000\n",
      "value # 629000\n",
      "value # 630000\n",
      "value # 631000\n",
      "value # 632000\n",
      "value # 633000\n",
      "value # 634000\n",
      "value # 635000\n",
      "value # 636000\n",
      "value # 637000\n",
      "value # 638000\n",
      "value # 639000\n",
      "value # 640000\n",
      "value # 641000\n",
      "value # 642000\n",
      "value # 643000\n",
      "value # 644000\n",
      "value # 645000\n",
      "value # 646000\n",
      "value # 647000\n",
      "value # 648000\n",
      "value # 649000\n",
      "value # 650000\n",
      "value # 651000\n",
      "value # 652000\n",
      "value # 653000\n",
      "value # 654000\n",
      "value # 655000\n",
      "value # 656000\n",
      "value # 657000\n",
      "value # 658000\n",
      "value # 659000\n",
      "value # 660000\n",
      "value # 661000\n",
      "value # 662000\n",
      "value # 663000\n",
      "value # 664000\n",
      "value # 665000\n",
      "value # 666000\n",
      "value # 667000\n",
      "value # 668000\n",
      "value # 669000\n",
      "value # 670000\n",
      "value # 671000\n",
      "value # 672000\n",
      "value # 673000\n",
      "value # 674000\n",
      "value # 675000\n",
      "value # 676000\n",
      "value # 677000\n",
      "value # 678000\n",
      "value # 679000\n",
      "value # 680000\n",
      "value # 681000\n",
      "value # 682000\n",
      "value # 683000\n",
      "value # 684000\n",
      "value # 685000\n",
      "value # 686000\n",
      "value # 687000\n",
      "value # 688000\n",
      "value # 689000\n",
      "value # 690000\n",
      "value # 691000\n",
      "value # 692000\n",
      "value # 693000\n",
      "value # 694000\n",
      "value # 695000\n",
      "value # 696000\n",
      "value # 697000\n",
      "value # 698000\n",
      "value # 699000\n",
      "value # 700000\n",
      "value # 701000\n",
      "value # 702000\n",
      "value # 703000\n",
      "value # 704000\n",
      "value # 705000\n",
      "value # 706000\n",
      "value # 707000\n",
      "value # 708000\n",
      "value # 709000\n",
      "value # 710000\n",
      "value # 711000\n",
      "value # 712000\n",
      "value # 713000\n",
      "value # 714000\n",
      "value # 715000\n",
      "value # 716000\n",
      "value # 717000\n",
      "value # 718000\n",
      "value # 719000\n",
      "value # 720000\n",
      "value # 721000\n",
      "value # 722000\n",
      "value # 723000\n",
      "value # 724000\n",
      "value # 725000\n",
      "value # 726000\n",
      "value # 727000\n",
      "value # 728000\n",
      "value # 729000\n",
      "value # 730000\n",
      "value # 731000\n",
      "value # 732000\n",
      "value # 733000\n",
      "value # 734000\n",
      "value # 735000\n",
      "value # 736000\n",
      "value # 737000\n",
      "value # 738000\n",
      "value # 739000\n",
      "value # 740000\n",
      "value # 741000\n",
      "value # 742000\n",
      "value # 743000\n",
      "value # 744000\n",
      "value # 745000\n",
      "value # 746000\n",
      "value # 747000\n",
      "value # 748000\n",
      "value # 749000\n",
      "value # 750000\n",
      "value # 751000\n",
      "value # 752000\n",
      "value # 753000\n",
      "value # 754000\n",
      "value # 755000\n",
      "value # 756000\n",
      "value # 757000\n",
      "value # 758000\n",
      "value # 759000\n",
      "value # 760000\n",
      "value # 761000\n",
      "value # 762000\n",
      "value # 763000\n",
      "value # 764000\n",
      "value # 765000\n",
      "value # 766000\n",
      "value # 767000\n",
      "value # 768000\n",
      "value # 769000\n",
      "value # 770000\n",
      "value # 771000\n",
      "value # 772000\n",
      "value # 773000\n",
      "value # 774000\n",
      "value # 775000\n",
      "value # 776000\n",
      "value # 777000\n",
      "value # 778000\n",
      "value # 779000\n",
      "value # 780000\n",
      "value # 781000\n",
      "value # 782000\n",
      "value # 783000\n",
      "value # 784000\n",
      "value # 785000\n",
      "value # 786000\n",
      "value # 787000\n",
      "value # 788000\n",
      "value # 789000\n",
      "value # 790000\n",
      "value # 791000\n",
      "value # 792000\n",
      "value # 793000\n",
      "value # 794000\n",
      "value # 795000\n",
      "value # 796000\n",
      "value # 797000\n",
      "value # 798000\n",
      "value # 799000\n",
      "value # 800000\n",
      "value # 801000\n",
      "value # 802000\n",
      "value # 803000\n",
      "value # 804000\n",
      "value # 805000\n",
      "value # 806000\n",
      "value # 807000\n",
      "value # 808000\n",
      "value # 809000\n",
      "value # 810000\n",
      "value # 811000\n",
      "value # 812000\n",
      "value # 813000\n",
      "value # 814000\n",
      "value # 815000\n",
      "value # 816000\n",
      "value # 817000\n",
      "value # 818000\n",
      "value # 819000\n",
      "value # 820000\n",
      "value # 821000\n",
      "value # 822000\n",
      "value # 823000\n",
      "value # 824000\n",
      "value # 825000\n",
      "value # 826000\n",
      "value # 827000\n",
      "value # 828000\n",
      "value # 829000\n",
      "value # 830000\n",
      "value # 831000\n",
      "value # 832000\n",
      "value # 833000\n",
      "value # 834000\n",
      "value # 835000\n",
      "value # 836000\n",
      "value # 837000\n",
      "value # 838000\n",
      "value # 839000\n",
      "value # 840000\n",
      "value # 841000\n",
      "value # 842000\n",
      "value # 843000\n",
      "value # 844000\n",
      "value # 845000\n",
      "value # 846000\n",
      "value # 847000\n",
      "value # 848000\n",
      "value # 849000\n",
      "value # 850000\n",
      "value # 851000\n",
      "value # 852000\n",
      "value # 853000\n",
      "value # 854000\n",
      "value # 855000\n",
      "value # 856000\n",
      "value # 857000\n",
      "value # 858000\n",
      "value # 859000\n",
      "value # 860000\n",
      "value # 861000\n",
      "value # 862000\n",
      "value # 863000\n",
      "value # 864000\n",
      "value # 865000\n",
      "value # 866000\n",
      "value # 867000\n",
      "value # 868000\n",
      "value # 869000\n",
      "value # 870000\n",
      "value # 871000\n",
      "value # 872000\n",
      "value # 873000\n",
      "value # 874000\n",
      "value # 875000\n",
      "value # 876000\n",
      "value # 877000\n",
      "value # 878000\n",
      "value # 879000\n",
      "value # 880000\n",
      "value # 881000\n",
      "value # 882000\n",
      "value # 883000\n",
      "value # 884000\n",
      "value # 885000\n",
      "value # 886000\n",
      "value # 887000\n",
      "value # 888000\n",
      "value # 889000\n",
      "value # 890000\n",
      "value # 891000\n",
      "value # 892000\n",
      "value # 893000\n",
      "value # 894000\n",
      "value # 895000\n",
      "value # 896000\n",
      "value # 897000\n",
      "value # 898000\n",
      "value # 899000\n",
      "value # 900000\n",
      "value # 901000\n",
      "value # 902000\n",
      "value # 903000\n",
      "value # 904000\n",
      "value # 905000\n",
      "value # 906000\n",
      "value # 907000\n",
      "value # 908000\n",
      "value # 909000\n",
      "value # 910000\n",
      "value # 911000\n",
      "value # 912000\n",
      "value # 913000\n",
      "value # 914000\n",
      "value # 915000\n",
      "value # 916000\n",
      "value # 917000\n",
      "value # 918000\n",
      "value # 919000\n",
      "value # 920000\n",
      "value # 921000\n",
      "value # 922000\n",
      "value # 923000\n",
      "value # 924000\n",
      "value # 925000\n",
      "value # 926000\n",
      "value # 927000\n",
      "value # 928000\n",
      "value # 929000\n",
      "value # 930000\n",
      "value # 931000\n",
      "value # 932000\n",
      "value # 933000\n",
      "value # 934000\n",
      "value # 935000\n",
      "value # 936000\n",
      "value # 937000\n",
      "value # 938000\n",
      "value # 939000\n",
      "value # 940000\n",
      "value # 941000\n",
      "value # 942000\n",
      "value # 943000\n",
      "value # 944000\n",
      "value # 945000\n",
      "value # 946000\n",
      "value # 947000\n",
      "value # 948000\n",
      "value # 949000\n",
      "value # 950000\n",
      "value # 951000\n",
      "value # 952000\n",
      "value # 953000\n",
      "value # 954000\n",
      "value # 955000\n",
      "value # 956000\n",
      "value # 957000\n",
      "value # 958000\n",
      "value # 959000\n",
      "value # 960000\n",
      "value # 961000\n",
      "value # 962000\n",
      "value # 963000\n",
      "value # 964000\n",
      "value # 965000\n",
      "value # 966000\n",
      "value # 967000\n",
      "value # 968000\n",
      "value # 969000\n",
      "value # 970000\n",
      "value # 971000\n",
      "value # 972000\n",
      "value # 973000\n",
      "value # 974000\n",
      "value # 975000\n",
      "value # 976000\n",
      "value # 977000\n",
      "value # 978000\n",
      "value # 979000\n",
      "value # 980000\n",
      "value # 981000\n",
      "value # 982000\n",
      "value # 983000\n",
      "value # 984000\n",
      "value # 985000\n",
      "value # 986000\n",
      "value # 987000\n",
      "value # 988000\n",
      "value # 989000\n",
      "value # 990000\n",
      "value # 991000\n",
      "value # 992000\n",
      "value # 993000\n",
      "value # 994000\n",
      "value # 995000\n",
      "value # 996000\n",
      "value # 997000\n",
      "value # 998000\n",
      "value # 999000\n",
      "value # 1000000\n",
      "value # 1001000\n",
      "value # 1002000\n",
      "value # 1003000\n",
      "value # 1004000\n",
      "value # 1005000\n",
      "value # 1006000\n",
      "value # 1007000\n",
      "value # 1008000\n",
      "value # 1009000\n",
      "value # 1010000\n",
      "value # 1011000\n",
      "value # 1012000\n",
      "value # 1013000\n",
      "value # 1014000\n",
      "value # 1015000\n",
      "value # 1016000\n",
      "value # 1017000\n",
      "value # 1018000\n",
      "value # 1019000\n",
      "value # 1020000\n",
      "value # 1021000\n",
      "value # 1022000\n",
      "value # 1023000\n",
      "value # 1024000\n",
      "value # 1025000\n",
      "value # 1026000\n",
      "value # 1027000\n",
      "value # 1028000\n",
      "value # 1029000\n",
      "value # 1030000\n",
      "value # 1031000\n",
      "value # 1032000\n",
      "value # 1033000\n",
      "value # 1034000\n",
      "value # 1035000\n",
      "value # 1036000\n",
      "value # 1037000\n",
      "value # 1038000\n",
      "value # 1039000\n",
      "value # 1040000\n",
      "value # 1041000\n",
      "value # 1042000\n",
      "value # 1043000\n",
      "value # 1044000\n",
      "value # 1045000\n",
      "value # 1046000\n",
      "value # 1047000\n",
      "value # 1048000\n",
      "value # 1049000\n",
      "value # 1050000\n",
      "value # 1051000\n",
      "value # 1052000\n",
      "value # 1053000\n",
      "value # 1054000\n",
      "value # 1055000\n",
      "value # 1056000\n",
      "value # 1057000\n",
      "value # 1058000\n",
      "value # 1059000\n",
      "value # 1060000\n",
      "value # 1061000\n",
      "value # 1062000\n",
      "value # 1063000\n",
      "value # 1064000\n",
      "value # 1065000\n",
      "value # 1066000\n",
      "value # 1067000\n",
      "value # 1068000\n",
      "value # 1069000\n",
      "value # 1070000\n",
      "value # 1071000\n",
      "value # 1072000\n",
      "value # 1073000\n",
      "value # 1074000\n",
      "value # 1075000\n",
      "value # 1076000\n",
      "value # 1077000\n",
      "value # 1078000\n",
      "value # 1079000\n",
      "value # 1080000\n",
      "value # 1081000\n",
      "value # 1082000\n",
      "value # 1083000\n",
      "value # 1084000\n",
      "value # 1085000\n",
      "value # 1086000\n",
      "value # 1087000\n",
      "value # 1088000\n",
      "value # 1089000\n",
      "value # 1090000\n",
      "value # 1091000\n",
      "value # 1092000\n",
      "value # 1093000\n"
     ]
    },
    {
     "name": "stdout",
     "output_type": "stream",
     "text": [
      "value # 1094000\n",
      "value # 1095000\n",
      "value # 1096000\n",
      "value # 1097000\n",
      "value # 1098000\n",
      "value # 1099000\n",
      "value # 1100000\n"
     ]
    }
   ],
   "source": [
    "# Add samples to index, takes long!\n",
    "for samplenum, sample in enumerate(cstar):\n",
    "    for tokennum, tokencontext in enumerate(sample):\n",
    "        index = cstar.shape[1] * samplenum + tokennum\n",
    "        t.add_item(index, tokencontext)\n",
    "        \n",
    "        if (cstar.shape[1] * samplenum + tokennum) % 1000 == 0:\n",
    "            print(\"value #\", cstar.shape[1] * samplenum + tokennum)\n",
    "#     if samplenum > 200:\n",
    "#         break"
   ]
  },
  {
   "cell_type": "code",
   "execution_count": 15,
   "metadata": {},
   "outputs": [
    {
     "data": {
      "text/plain": [
       "True"
      ]
     },
     "execution_count": 15,
     "metadata": {},
     "output_type": "execute_result"
    }
   ],
   "source": [
    "# Build trees\n",
    "t.build(10)"
   ]
  },
  {
   "cell_type": "code",
   "execution_count": 16,
   "metadata": {},
   "outputs": [
    {
     "data": {
      "text/plain": [
       "True"
      ]
     },
     "execution_count": 16,
     "metadata": {},
     "output_type": "execute_result"
    }
   ],
   "source": [
    "# Save index to file\n",
    "t.save(\"encoder.ann\")"
   ]
  },
  {
   "cell_type": "markdown",
   "metadata": {},
   "source": [
    "## How to use the search"
   ]
  },
  {
   "cell_type": "code",
   "execution_count": 42,
   "metadata": {},
   "outputs": [
    {
     "data": {
      "text/plain": [
       "True"
      ]
     },
     "execution_count": 42,
     "metadata": {},
     "output_type": "execute_result"
    }
   ],
   "source": [
    "# Load the index from file\n",
    "u = AnnoyIndex(500)\n",
    "u.load(\"S2S/decoder.ann\")"
   ]
  },
  {
   "cell_type": "code",
   "execution_count": 44,
   "metadata": {
    "collapsed": true
   },
   "outputs": [],
   "source": [
    "# Load the file with states etc\n",
    "f = h5py.File(\"S2S/large/states_small.h5\", \"r\")"
   ]
  },
  {
   "cell_type": "code",
   "execution_count": 45,
   "metadata": {
    "collapsed": true
   },
   "outputs": [],
   "source": [
    "# Define loader for dictionary and load them\n",
    "def load_dict(fname):\n",
    "    ix2w = {}\n",
    "    with open(fname, \"r\") as f:\n",
    "        for l in f:\n",
    "            cline = l.split()\n",
    "            ix2w[int(cline[0])] = cline[1]\n",
    "    ix2w[0] = \"<unk>\"\n",
    "    return ix2w"
   ]
  },
  {
   "cell_type": "code",
   "execution_count": 46,
   "metadata": {
    "collapsed": true
   },
   "outputs": [],
   "source": [
    "src_dict = load_dict(\"S2S/src.dict\")\n",
    "tgt_dict = load_dict(\"S2S/tgt.dict\")"
   ]
  },
  {
   "cell_type": "code",
   "execution_count": 102,
   "metadata": {
    "collapsed": true
   },
   "outputs": [],
   "source": [
    "# Test functionality by giving a point as input\n",
    "def get_closest(testpoint, k=5, annoy=True):\n",
    "    if annoy:\n",
    "        I, D = u.get_nns_by_vector(testpoint.squeeze(), \n",
    "                                    k,  \n",
    "                                    search_k=50000, \n",
    "                                    include_distances=True)\n",
    "        return D, I\n",
    "    else:\n",
    "        D, I = index.search(testpoint, k) \n",
    "        return D, I\n",
    "\n",
    "        \n",
    "testpoint = np.array(cstar[0,0:1], dtype=\"float32\")\n"
   ]
  },
  {
   "cell_type": "code",
   "execution_count": 149,
   "metadata": {},
   "outputs": [
    {
     "name": "stdout",
     "output_type": "stream",
     "text": [
      "CPU times: user 36.5 ms, sys: 1.88 ms, total: 38.3 ms\n",
      "Wall time: 38.7 ms\n",
      "[147047, 969023, 310957, 571851, 933596, 950993, 431290, 249060, 746382, 855674, 928770, 682402, 662405, 247146, 912924, 662406, 961327, 238563, 928760, 664748, 845862, 682406, 144397, 346712, 518341]\n"
     ]
    }
   ],
   "source": [
    "# annoy\n",
    "%time D, I = get_closest(testpoint, 25, annoy=True)\n",
    "print(I)"
   ]
  },
  {
   "cell_type": "code",
   "execution_count": 150,
   "metadata": {},
   "outputs": [
    {
     "name": "stdout",
     "output_type": "stream",
     "text": [
      "CPU times: user 315 ms, sys: 38.9 ms, total: 354 ms\n",
      "Wall time: 308 ms\n",
      "[[ 174974  311579 1056559  238261  308952  323676   48425 1062276  538734\n",
      "   739660   60564   41441  388156  143277  583175  668534  117867  777543\n",
      "   633615  345426  456997  401451  114418   23381       3]]\n"
     ]
    }
   ],
   "source": [
    "# faiss\n",
    "%time D, I = get_closest(testpoint, 25, annoy=False)\n",
    "print(I)"
   ]
  },
  {
   "cell_type": "code",
   "execution_count": 48,
   "metadata": {},
   "outputs": [
    {
     "data": {
      "text/plain": [
       "(1, 46)"
      ]
     },
     "execution_count": 48,
     "metadata": {},
     "output_type": "execute_result"
    }
   ],
   "source": [
    "# Index is stretched out, need to find src/tgt index\n",
    "def convert_result_to_correct_index(oldix):\n",
    "    return oldix // 55, oldix % 55\n",
    "convert_result_to_correct_index(101)"
   ]
  },
  {
   "cell_type": "code",
   "execution_count": 49,
   "metadata": {
    "collapsed": true
   },
   "outputs": [],
   "source": [
    "# Transform tokens, ignore padding (1)\n",
    "def ix2text(array, vocab, highlight=-1):\n",
    "    tokens = []\n",
    "    for ix, t in enumerate(array):\n",
    "        if ix == highlight:\n",
    "            tokens.append(\"___\" + vocab[t] + \"___\")\n",
    "        elif t != 1:\n",
    "            tokens.append(vocab[t])\n",
    "    return \" \".join(tokens)\n"
   ]
  },
  {
   "cell_type": "code",
   "execution_count": 50,
   "metadata": {
    "collapsed": true
   },
   "outputs": [],
   "source": [
    "# Compute length of a sentence when ignoring padding\n",
    "def compute_sent_length(array):\n",
    "    return np.sum([1 for t in array if t != 1])"
   ]
  },
  {
   "cell_type": "code",
   "execution_count": 51,
   "metadata": {},
   "outputs": [
    {
     "name": "stdout",
     "output_type": "stream",
     "text": [
      "&quot; Two soldiers came up to me and told me that if I refuse to sleep with them , they will kill me . They beat me and ripped my clothes .\n",
      "<s> Also kam ich nach Südafrika \" , erzählte eine Frau namens Grace ___dem___ Human Rights <unk> Gerry Simpson , der die Probleme der <unk> Flüchtlinge in Südafrika untersucht .\n"
     ]
    }
   ],
   "source": [
    "# Convert a result for an index\n",
    "def convert_result(ix):\n",
    "    sentIx, tokIx = convert_result_to_correct_index(ix)\n",
    "    # Get raw list of tokens\n",
    "    src_in = f['src']['src'][sentIx]\n",
    "    tgt_in = f['tgt']['tgt'][sentIx]\n",
    "    # Convert to text\n",
    "    src = ix2text(src_in, src_dict)\n",
    "    tgt = ix2text(tgt_in, tgt_dict, tokIx)\n",
    "    attn = f['attn']['attn'][sentIx]\n",
    "    src_len = compute_sent_length(src_in)\n",
    "    tgt_len = compute_sent_length(tgt_in)\n",
    "    attn = attn[:tgt_len,:src_len]\n",
    "    print(src)\n",
    "    print(tgt)\n",
    "    return src, tgt, attn\n",
    "src, tgt, attn = convert_result(123)"
   ]
  },
  {
   "cell_type": "markdown",
   "metadata": {},
   "source": [
    "### Case study\n",
    "\n",
    "We have word number 500, and want to know which it was closest to"
   ]
  },
  {
   "cell_type": "code",
   "execution_count": 52,
   "metadata": {
    "collapsed": true
   },
   "outputs": [],
   "source": [
    "investigated_num = 11"
   ]
  },
  {
   "cell_type": "code",
   "execution_count": 53,
   "metadata": {},
   "outputs": [
    {
     "name": "stdout",
     "output_type": "stream",
     "text": [
      "[680582, 627181, 997046, 120646, 899980]\n"
     ]
    }
   ],
   "source": [
    "curr_res = get_closest(investigated_num,5,True)\n",
    "print(curr_res)"
   ]
  },
  {
   "cell_type": "code",
   "execution_count": 54,
   "metadata": {},
   "outputs": [
    {
     "name": "stdout",
     "output_type": "stream",
     "text": [
      "It is not acceptable that , with the help of the national bureaucracies , Parliament &apos;s legislative prerogative should be made null and void by means of implementing provisions whose content , purpose and extent are not laid down in advance .\n",
      "<s> Es geht nicht an , dass über <unk> , deren ___Inhalt___ , Zweck und Ausmaß vorher nicht bestimmt ist , zusammen mit den nationalen Bürokratien das <unk> des Europäischen Parlaments ausgehebelt wird .\n"
     ]
    }
   ],
   "source": [
    "# First we print what it was\n",
    "_ = convert_result(investigated_num)"
   ]
  },
  {
   "cell_type": "code",
   "execution_count": 55,
   "metadata": {},
   "outputs": [
    {
     "name": "stdout",
     "output_type": "stream",
     "text": [
      "We have addressed the Internet pharmacy issue .\n",
      "<s> Wir haben das Problem der <unk> aufgegriffen . ___<blank>___\n",
      "\n",
      "The independence of a state is not real as long as the United Nations Security Council does not accept it .\n",
      "<s> Die Unabhängigkeit eines Staates ist ohne die Anerkennung durch den Sicherheitsrat der Vereinten Nationen nicht ___echt___ .\n",
      "\n",
      "Aiguille du Midi is also where you can start an almost endless lift serviced ski and snowboarding run , one of 21 kilometers long , the longest in the world !\n",
      "<s> Diese <unk> ist die h ___�___ chste in ganz Europa ! <unk> du Midi ist also der Ort , wo Sie am besten starten und wo Sie die riesige Auswahl an Liften und Pisten genie � en k � nnen .\n",
      "\n",
      ". I shall begin by responding to Mr Posselt and I shall not speak too quickly .\n",
      "<s> Ich werde mit der Antwort an Herrn Posselt beginnen und versuchen , nicht so schnell zu sprechen . ___<blank>___\n",
      "\n",
      "Secondly , we voted against all the amendments in paragraph 50 , because the Bene ? decrees are a translation of the Allies &apos; Potsdam decisions .\n",
      "<s> Zweitens: Wir haben gegen alle Änderungsanträge zum Art. 50 gestimmt , weil die Bene ___?___ <unk> eine nähere Ausführung der Potsdamer Beschlüsse der Alliierten sind .\n",
      "\n"
     ]
    }
   ],
   "source": [
    "# Then, the closest one's\n",
    "for r in curr_res:\n",
    "    _ = convert_result(r)\n",
    "    print()"
   ]
  },
  {
   "cell_type": "markdown",
   "metadata": {
    "collapsed": true
   },
   "source": [
    "### FAISS"
   ]
  },
  {
   "cell_type": "code",
   "execution_count": 4,
   "metadata": {},
   "outputs": [
    {
     "name": "stderr",
     "output_type": "stream",
     "text": [
      "Failed to load GPU Faiss: No module named 'swigfaiss_gpu'\n",
      "Faiss falling back to CPU-only.\n"
     ]
    },
    {
     "data": {
      "text/plain": [
       "(20000, 50, 100)"
      ]
     },
     "execution_count": 4,
     "metadata": {},
     "output_type": "execute_result"
    }
   ],
   "source": [
    "import faiss\n",
    "cstar.shape"
   ]
  },
  {
   "cell_type": "markdown",
   "metadata": {},
   "source": [
    "Use a quantizer"
   ]
  },
  {
   "cell_type": "code",
   "execution_count": 140,
   "metadata": {
    "collapsed": true
   },
   "outputs": [],
   "source": [
    "index = faiss.IndexPQ (cstar.shape[2], 20, 8)        # Create the index"
   ]
  },
  {
   "cell_type": "code",
   "execution_count": 141,
   "metadata": {
    "collapsed": true
   },
   "outputs": [],
   "source": [
    "index.train(np.array(cstar[0:2000].reshape(-1, cstar.shape[2]), dtype=\"float32\"))"
   ]
  },
  {
   "cell_type": "code",
   "execution_count": 142,
   "metadata": {
    "collapsed": true
   },
   "outputs": [],
   "source": [
    "stepsize = 100 # How many to add at once\n",
    "for ix in range(2000, cstar.shape[0]-stepsize, stepsize):\n",
    "    cdata = np.array(cstar[ix:ix+stepsize].reshape(-1, \n",
    "                                                   cstar.shape[2]), \n",
    "                     dtype=\"float32\")\n",
    "    index.add(cdata)"
   ]
  },
  {
   "cell_type": "code",
   "execution_count": 143,
   "metadata": {
    "collapsed": true
   },
   "outputs": [],
   "source": [
    "index.nprobe = 10"
   ]
  },
  {
   "cell_type": "markdown",
   "metadata": {},
   "source": [
    "IP search"
   ]
  },
  {
   "cell_type": "code",
   "execution_count": 14,
   "metadata": {
    "collapsed": true
   },
   "outputs": [],
   "source": [
    "# cstar = f[\"encoder_out\"]\n",
    "cstar = f[\"cstar\"]"
   ]
  },
  {
   "cell_type": "code",
   "execution_count": 15,
   "metadata": {
    "collapsed": true
   },
   "outputs": [],
   "source": [
    "d = cstar.shape[2]\n",
    "index = faiss.IndexFlatIP(d)\n",
    "# index = faiss.IndexFlatL2(d) "
   ]
  },
  {
   "cell_type": "code",
   "execution_count": 16,
   "metadata": {
    "scrolled": true
   },
   "outputs": [
    {
     "name": "stdout",
     "output_type": "stream",
     "text": [
      "0\n",
      "5000\n",
      "10000\n",
      "15000\n"
     ]
    }
   ],
   "source": [
    "stepsize = 100 # How many to add at once\n",
    "for ix in range(0, cstar.shape[0]-stepsize, stepsize):\n",
    "    cdata = np.array(cstar[ix:ix+stepsize].reshape(-1, \n",
    "                                                   cstar.shape[2]), \n",
    "                     dtype=\"float32\")\n",
    "    index.add(cdata)\n",
    "    if ix % 5000 == 0:\n",
    "        print(ix)"
   ]
  },
  {
   "cell_type": "markdown",
   "metadata": {},
   "source": [
    "Safe and Load"
   ]
  },
  {
   "cell_type": "code",
   "execution_count": 17,
   "metadata": {
    "collapsed": true
   },
   "outputs": [],
   "source": [
    "faiss.write_index(index, 's2s_fakedates/context.faiss')"
   ]
  },
  {
   "cell_type": "code",
   "execution_count": 37,
   "metadata": {
    "collapsed": true
   },
   "outputs": [],
   "source": [
    "index = faiss.read_index('decoder.faiss')"
   ]
  },
  {
   "cell_type": "code",
   "execution_count": 16,
   "metadata": {
    "collapsed": true
   },
   "outputs": [],
   "source": [
    "del index"
   ]
  },
  {
   "cell_type": "markdown",
   "metadata": {},
   "source": [
    "Test"
   ]
  },
  {
   "cell_type": "code",
   "execution_count": 144,
   "metadata": {},
   "outputs": [
    {
     "name": "stdout",
     "output_type": "stream",
     "text": [
      "(1, 500)\n"
     ]
    }
   ],
   "source": [
    "testpoint = np.array(cstar[0][0:1], dtype=\"float32\")\n",
    "print(testpoint.shape)"
   ]
  },
  {
   "cell_type": "code",
   "execution_count": 145,
   "metadata": {},
   "outputs": [
    {
     "name": "stdout",
     "output_type": "stream",
     "text": [
      "CPU times: user 24.2 ms, sys: 5.72 ms, total: 29.9 ms\n",
      "Wall time: 21.4 ms\n",
      "[[ 0.62567312  0.63925707  0.6418404   0.64386076  0.64680231]] [[900082  25465 977474 487581 900081]]\n"
     ]
    }
   ],
   "source": [
    "%time D, I = index.search (testpoint, 5) \n",
    "print(D, I)"
   ]
  },
  {
   "cell_type": "code",
   "execution_count": 148,
   "metadata": {},
   "outputs": [
    {
     "name": "stdout",
     "output_type": "stream",
     "text": [
      "CPU times: user 583 ms, sys: 53.2 ms, total: 636 ms\n",
      "Wall time: 463 ms\n",
      "[[ 1.29864526  1.28903401  1.22845101  1.22558022  1.21825838]] [[ 174974  311579 1056559  238261  308952]]\n"
     ]
    }
   ],
   "source": [
    "% time D, I = index.search(testpoint, 5)   \n",
    "print(D, I)"
   ]
  },
  {
   "cell_type": "markdown",
   "metadata": {
    "collapsed": true
   },
   "source": [
    "### Test Clustering"
   ]
  },
  {
   "cell_type": "code",
   "execution_count": 18,
   "metadata": {},
   "outputs": [
    {
     "data": {
      "text/plain": [
       "500"
      ]
     },
     "execution_count": 18,
     "metadata": {},
     "output_type": "execute_result"
    }
   ],
   "source": [
    "cstar = f[\"decoder_out\"]\n",
    "cstar.shape[-1]"
   ]
  },
  {
   "cell_type": "code",
   "execution_count": 19,
   "metadata": {
    "collapsed": true
   },
   "outputs": [],
   "source": [
    "ncentroids = 20\n",
    "niter = 20\n",
    "d = cstar.shape[-1]"
   ]
  },
  {
   "cell_type": "code",
   "execution_count": 33,
   "metadata": {
    "collapsed": true
   },
   "outputs": [],
   "source": [
    "kmeans = faiss.Kmeans(d, ncentroids, niter, verbose=True)"
   ]
  },
  {
   "cell_type": "code",
   "execution_count": 35,
   "metadata": {},
   "outputs": [
    {
     "data": {
      "text/plain": [
       "(2500500, 500)"
      ]
     },
     "execution_count": 35,
     "metadata": {},
     "output_type": "execute_result"
    }
   ],
   "source": [
    "x = np.array(cstar[:].reshape((-1, d)), dtype=\"float32\")\n",
    "x.shape"
   ]
  },
  {
   "cell_type": "code",
   "execution_count": 36,
   "metadata": {},
   "outputs": [
    {
     "data": {
      "text/plain": [
       "167185.05"
      ]
     },
     "execution_count": 36,
     "metadata": {},
     "output_type": "execute_result"
    }
   ],
   "source": [
    "kmeans.train(x)"
   ]
  },
  {
   "cell_type": "code",
   "execution_count": 38,
   "metadata": {
    "collapsed": true
   },
   "outputs": [],
   "source": [
    "faiss.write_index(kmeans.index, 's2s/kmeans_decoder.faiss')"
   ]
  },
  {
   "cell_type": "code",
   "execution_count": 39,
   "metadata": {
    "collapsed": true
   },
   "outputs": [],
   "source": [
    "D, I = kmeans.index.search(x, 1)"
   ]
  },
  {
   "cell_type": "code",
   "execution_count": 45,
   "metadata": {
    "collapsed": true
   },
   "outputs": [],
   "source": [
    "D = D.reshape(-1, 50)\n",
    "I = I.reshape(-1, 50)"
   ]
  },
  {
   "cell_type": "code",
   "execution_count": 100,
   "metadata": {
    "collapsed": true
   },
   "outputs": [],
   "source": [
    "import codecs\n",
    "ix2w = {}\n",
    "with codecs.open(\"s2s/tgt.dict\", 'r', 'utf-8') as g:\n",
    "    for l in g:\n",
    "        w = l.split()\n",
    "        ix2w[int(w[0])] = w[1]\n",
    "ix2w[0] = \"<unk>\""
   ]
  },
  {
   "cell_type": "code",
   "execution_count": 103,
   "metadata": {
    "collapsed": true
   },
   "outputs": [],
   "source": [
    "def get_example(ix, dic):\n",
    "    for cluster, src in zip(I[ix], f['tgt'][ix]):\n",
    "        if src != 1:\n",
    "            print(\"{}|{}\".format(dic[src],cluster), end=\" \")"
   ]
  },
  {
   "cell_type": "code",
   "execution_count": 104,
   "metadata": {},
   "outputs": [
    {
     "name": "stdout",
     "output_type": "stream",
     "text": [
      "<s>|0 and|0 20|13 years|13 later|13 ,|0 miraculously|13 ,|0 we|9 collaborated|13 with|0 a|4 company|13 from|7 mali|13 ,|0 the|4 <unk>|4 <unk>|4 troupe|13 of|4 <unk>|13 ,|0 where|0 we|9 made|0 a|4 piece|13 about|0 a|4 tall|7 giraffe|5 .|2 </s>|16 \n",
      "--\n",
      "<s>|0 these|9 are|0 chemical|7 clocks|13 ,|0 and|0 they|9 &apos;re|0 found|13 in|0 every|4 known|4 being|13 that|9 has|0 two|13 or|0 more|13 cells|13 and|0 in|0 some|4 that|9 only|4 have|0 one|4 cell|5 .|2 </s>|16 \n",
      "--\n",
      "<s>|0 it|9 lists|0 already|13 1,000|4 entities|13 that|9 are|0 offering|0 debt|13 and|4 equity|13 for|0 social|4 enterprise|5 .|2 </s>|16 \n",
      "--\n",
      "<s>|0 it|9 really|9 makes|0 you|9 think|13 ,|0 we|9 &apos;d|9 love|0 to|9 know|0 what|0 &apos;s|0 going|13 on|13 inside|0 their|4 brain|5 .|2 </s>|16 \n",
      "--\n",
      "<s>|0 small|4 country|13 ,|0 not|0 so|0 rich|5 .|0 president|9 said|13 he|9 &apos;d|9 do|0 it|13 ,|0 and|0 guess|0 what|17 ?|2 </s>|16 \n",
      "--\n",
      "<s>|0 you|9 &apos;ll|9 have|0 <unk>|4 vitality|13 and|0 energy|5 .|2 </s>|16 \n",
      "--\n",
      "<s>|0 the|4 politics|9 become|0 easier|13 as|0 the|4 decade|13 progresses|13 if|0 you|9 &apos;re|0 building|0 on|0 a|4 foundation|13 of|0 security|13 and|0 economic|4 development|13 --|0 the|4 rebuilding|13 of|0 prosperity|5 .|2 \n",
      "--\n"
     ]
    }
   ],
   "source": [
    "for i in [150, 250, 350, 500, 1000, 2000, 45000]:\n",
    "    get_example(i, ix2w)\n",
    "    print(\"\")\n",
    "    print(\"--\")"
   ]
  },
  {
   "cell_type": "code",
   "execution_count": 74,
   "metadata": {
    "collapsed": true
   },
   "outputs": [],
   "source": [
    "from collections import Counter"
   ]
  },
  {
   "cell_type": "code",
   "execution_count": 79,
   "metadata": {
    "collapsed": true
   },
   "outputs": [],
   "source": [
    "from_to = Counter()\n",
    "for ex, txt in zip(I, f['tgt']):\n",
    "    prev = -1\n",
    "    for ex_ix in range(len(ex)):\n",
    "        if txt[ex_ix] != 1 and prev != -1:\n",
    "            from_to[(prev, ex[ex_ix])] +=1\n",
    "        prev = ex[ex_ix]"
   ]
  },
  {
   "cell_type": "code",
   "execution_count": 94,
   "metadata": {
    "collapsed": true
   },
   "outputs": [],
   "source": [
    "heatmap_source = []\n",
    "for i in range(20):\n",
    "    clist = []\n",
    "    for j in range(20):\n",
    "        cval = from_to[(i,j)]\n",
    "        if cval > 0:\n",
    "            cval = cval\n",
    "#             cval = np.log(cval)\n",
    "        clist.append(cval)\n",
    "    heatmap_source.append(clist)\n",
    "heatmap_source = np.array(heatmap_source)"
   ]
  },
  {
   "cell_type": "code",
   "execution_count": 95,
   "metadata": {},
   "outputs": [
    {
     "data": {
      "text/plain": [
       "<matplotlib.axes._subplots.AxesSubplot at 0x11313aba8>"
      ]
     },
     "execution_count": 95,
     "metadata": {},
     "output_type": "execute_result"
    },
    {
     "data": {
      "image/png": "[encoded data removed]",
      "text/plain": [
       "<matplotlib.figure.Figure at 0x11314fef0>"
      ]
     },
     "metadata": {},
     "output_type": "display_data"
    }
   ],
   "source": [
    "sns.heatmap(heatmap_source)"
   ]
  },
  {
   "cell_type": "code",
   "execution_count": null,
   "metadata": {
    "collapsed": true
   },
   "outputs": [],
   "source": []
  }
 ],
 "metadata": {
  "kernelspec": {
   "display_name": "Python 3",
   "language": "python",
   "name": "python3"
  },
  "language_info": {
   "codemirror_mode": {
    "name": "ipython",
    "version": 3
   },
   "file_extension": ".py",
   "mimetype": "text/x-python",
   "name": "python",
   "nbconvert_exporter": "python",
   "pygments_lexer": "ipython3",
   "version": "3.6.1"
  }
 },
 "nbformat": 4,
 "nbformat_minor": 2
}
